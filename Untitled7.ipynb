{
  "nbformat": 4,
  "nbformat_minor": 0,
  "metadata": {
    "colab": {
      "provenance": []
    },
    "kernelspec": {
      "name": "python3",
      "display_name": "Python 3"
    },
    "language_info": {
      "name": "python"
    }
  },
  "cells": [
    {
      "cell_type": "code",
      "execution_count": 1,
      "metadata": {
        "colab": {
          "base_uri": "https://localhost:8080/"
        },
        "id": "d3JQ8dVr7qCy",
        "outputId": "19e5702a-1639-4be5-d178-16ebaab5ce02"
      },
      "outputs": [
        {
          "output_type": "stream",
          "name": "stdout",
          "text": [
            "Requirement already satisfied: requests in /usr/local/lib/python3.10/dist-packages (2.31.0)\n",
            "Requirement already satisfied: beautifulsoup4 in /usr/local/lib/python3.10/dist-packages (4.12.3)\n",
            "Requirement already satisfied: pandas in /usr/local/lib/python3.10/dist-packages (2.0.3)\n",
            "Requirement already satisfied: charset-normalizer<4,>=2 in /usr/local/lib/python3.10/dist-packages (from requests) (3.3.2)\n",
            "Requirement already satisfied: idna<4,>=2.5 in /usr/local/lib/python3.10/dist-packages (from requests) (3.7)\n",
            "Requirement already satisfied: urllib3<3,>=1.21.1 in /usr/local/lib/python3.10/dist-packages (from requests) (2.0.7)\n",
            "Requirement already satisfied: certifi>=2017.4.17 in /usr/local/lib/python3.10/dist-packages (from requests) (2024.7.4)\n",
            "Requirement already satisfied: soupsieve>1.2 in /usr/local/lib/python3.10/dist-packages (from beautifulsoup4) (2.5)\n",
            "Requirement already satisfied: python-dateutil>=2.8.2 in /usr/local/lib/python3.10/dist-packages (from pandas) (2.8.2)\n",
            "Requirement already satisfied: pytz>=2020.1 in /usr/local/lib/python3.10/dist-packages (from pandas) (2024.1)\n",
            "Requirement already satisfied: tzdata>=2022.1 in /usr/local/lib/python3.10/dist-packages (from pandas) (2024.1)\n",
            "Requirement already satisfied: numpy>=1.21.0 in /usr/local/lib/python3.10/dist-packages (from pandas) (1.25.2)\n",
            "Requirement already satisfied: six>=1.5 in /usr/local/lib/python3.10/dist-packages (from python-dateutil>=2.8.2->pandas) (1.16.0)\n"
          ]
        }
      ],
      "source": [
        "!pip install requests beautifulsoup4 pandas\n"
      ]
    },
    {
      "cell_type": "code",
      "source": [
        "import requests\n",
        "from bs4 import BeautifulSoup\n",
        "import pandas as pd\n"
      ],
      "metadata": {
        "id": "XBK_ace38PCB"
      },
      "execution_count": 2,
      "outputs": []
    },
    {
      "cell_type": "code",
      "source": [
        "url = 'http://books.toscrape.com/'\n"
      ],
      "metadata": {
        "id": "O4_H-6rJ8VFi"
      },
      "execution_count": 3,
      "outputs": []
    },
    {
      "cell_type": "code",
      "source": [
        "response = requests.get(url)\n",
        "page_content = response.content\n"
      ],
      "metadata": {
        "id": "VKuLaJ4c8Zcc"
      },
      "execution_count": 4,
      "outputs": []
    },
    {
      "cell_type": "code",
      "source": [
        "soup = BeautifulSoup(page_content, 'html.parser')\n"
      ],
      "metadata": {
        "id": "AxqxPDSN8eiW"
      },
      "execution_count": 5,
      "outputs": []
    },
    {
      "cell_type": "code",
      "source": [
        "product_names = [name.get_text(strip=True) for name in soup.find_all('h3')]\n",
        "product_prices = [price.get_text(strip=True) for price in soup.find_all('p', class_='price_color')]\n",
        "product_ratings = [rating['class'][1] for rating in soup.find_all('p', class_='star-rating')]\n"
      ],
      "metadata": {
        "id": "RUsdzPjL8lFg"
      },
      "execution_count": 6,
      "outputs": []
    },
    {
      "cell_type": "code",
      "source": [
        "data = {\n",
        "    'Product Name': product_names,\n",
        "    'Price': product_prices,\n",
        "    'Rating': product_ratings\n",
        "}\n",
        "df = pd.DataFrame(data)\n"
      ],
      "metadata": {
        "id": "L67UI6Rs8v7l"
      },
      "execution_count": 7,
      "outputs": []
    },
    {
      "cell_type": "code",
      "source": [
        "df.to_csv('books.csv', index=False)\n"
      ],
      "metadata": {
        "id": "LgyEIQSf804c"
      },
      "execution_count": 8,
      "outputs": []
    },
    {
      "cell_type": "code",
      "source": [
        "from google.colab import files\n",
        "files.download('books.csv')\n"
      ],
      "metadata": {
        "colab": {
          "base_uri": "https://localhost:8080/",
          "height": 17
        },
        "id": "c86kIIbW8_O2",
        "outputId": "6b21c331-32e2-437f-f718-769938155a5d"
      },
      "execution_count": 9,
      "outputs": [
        {
          "output_type": "display_data",
          "data": {
            "text/plain": [
              "<IPython.core.display.Javascript object>"
            ],
            "application/javascript": [
              "\n",
              "    async function download(id, filename, size) {\n",
              "      if (!google.colab.kernel.accessAllowed) {\n",
              "        return;\n",
              "      }\n",
              "      const div = document.createElement('div');\n",
              "      const label = document.createElement('label');\n",
              "      label.textContent = `Downloading \"${filename}\": `;\n",
              "      div.appendChild(label);\n",
              "      const progress = document.createElement('progress');\n",
              "      progress.max = size;\n",
              "      div.appendChild(progress);\n",
              "      document.body.appendChild(div);\n",
              "\n",
              "      const buffers = [];\n",
              "      let downloaded = 0;\n",
              "\n",
              "      const channel = await google.colab.kernel.comms.open(id);\n",
              "      // Send a message to notify the kernel that we're ready.\n",
              "      channel.send({})\n",
              "\n",
              "      for await (const message of channel.messages) {\n",
              "        // Send a message to notify the kernel that we're ready.\n",
              "        channel.send({})\n",
              "        if (message.buffers) {\n",
              "          for (const buffer of message.buffers) {\n",
              "            buffers.push(buffer);\n",
              "            downloaded += buffer.byteLength;\n",
              "            progress.value = downloaded;\n",
              "          }\n",
              "        }\n",
              "      }\n",
              "      const blob = new Blob(buffers, {type: 'application/binary'});\n",
              "      const a = document.createElement('a');\n",
              "      a.href = window.URL.createObjectURL(blob);\n",
              "      a.download = filename;\n",
              "      div.appendChild(a);\n",
              "      a.click();\n",
              "      div.remove();\n",
              "    }\n",
              "  "
            ]
          },
          "metadata": {}
        },
        {
          "output_type": "display_data",
          "data": {
            "text/plain": [
              "<IPython.core.display.Javascript object>"
            ],
            "application/javascript": [
              "download(\"download_d08f4376-0a1b-44f6-a63b-0fd6a39e09d4\", \"books.csv\", 715)"
            ]
          },
          "metadata": {}
        }
      ]
    },
    {
      "cell_type": "code",
      "source": [
        "import pandas as pd\n"
      ],
      "metadata": {
        "id": "-qqdQPLD_mtF"
      },
      "execution_count": 15,
      "outputs": []
    },
    {
      "cell_type": "code",
      "source": [
        "from io import StringIO\n",
        "\n",
        "# CSV data as a string\n",
        "csv_data = \"\"\"Product Name,Price,Rating\n",
        "A Light in the ...,£51.77,Three\n",
        "Tipping the Velvet,£53.74,One\n",
        "Soumission,£50.10,One\n",
        "Sharp Objects,£47.82,Four\n",
        "Sapiens: A Brief History ...,£54.23,Five\n",
        "The Requiem Red,£22.65,One\n",
        "The Dirty Little Secrets ...,£33.34,Four\n",
        "The Coming Woman: A ...,£17.93,Three\n",
        "The Boys in the ...,£22.60,Four\n",
        "The Black Maria,£52.15,One\n",
        "Starving Hearts (Triangular Trade ...,£13.99,Two\n",
        "Shakespeare's Sonnets,£20.66,Four\n",
        "Set Me Free,£17.46,Five\n",
        "Scott Pilgrim's Precious Little ...,£52.29,Five\n",
        "Rip it Up and ...,£35.02,Five\n",
        "Our Band Could Be ...,£57.25,Three\n",
        "Olio,£23.88,One\n",
        "Mesaerion: The Best Science ...,£37.59,One\n",
        "Libertarianism for Beginners,£51.33,Two\n",
        "It's Only the Himalayas,£45.17,Two\"\"\"\n",
        "\n",
        "# Read CSV data into a DataFrame\n",
        "df = pd.read_csv(StringIO(csv_data))\n",
        "\n",
        "# Display the DataFrame\n",
        "print(df)\n"
      ],
      "metadata": {
        "colab": {
          "base_uri": "https://localhost:8080/"
        },
        "id": "IekazIns_ozI",
        "outputId": "510e5278-7cae-4592-f2ae-29d913206550"
      },
      "execution_count": 16,
      "outputs": [
        {
          "output_type": "stream",
          "name": "stdout",
          "text": [
            "                             Product Name   Price Rating\n",
            "0                      A Light in the ...  £51.77  Three\n",
            "1                      Tipping the Velvet  £53.74    One\n",
            "2                              Soumission  £50.10    One\n",
            "3                           Sharp Objects  £47.82   Four\n",
            "4            Sapiens: A Brief History ...  £54.23   Five\n",
            "5                         The Requiem Red  £22.65    One\n",
            "6            The Dirty Little Secrets ...  £33.34   Four\n",
            "7                 The Coming Woman: A ...  £17.93  Three\n",
            "8                     The Boys in the ...  £22.60   Four\n",
            "9                         The Black Maria  £52.15    One\n",
            "10  Starving Hearts (Triangular Trade ...  £13.99    Two\n",
            "11                  Shakespeare's Sonnets  £20.66   Four\n",
            "12                            Set Me Free  £17.46   Five\n",
            "13    Scott Pilgrim's Precious Little ...  £52.29   Five\n",
            "14                      Rip it Up and ...  £35.02   Five\n",
            "15                  Our Band Could Be ...  £57.25  Three\n",
            "16                                   Olio  £23.88    One\n",
            "17        Mesaerion: The Best Science ...  £37.59    One\n",
            "18           Libertarianism for Beginners  £51.33    Two\n",
            "19                It's Only the Himalayas  £45.17    Two\n"
          ]
        }
      ]
    }
  ]
}